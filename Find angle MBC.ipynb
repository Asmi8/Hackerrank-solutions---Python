{
 "cells": [
  {
   "cell_type": "code",
   "execution_count": null,
   "id": "976e32af",
   "metadata": {},
   "outputs": [],
   "source": [
    "import math\n"
   ]
  },
  {
   "cell_type": "code",
   "execution_count": null,
   "id": "1172a292",
   "metadata": {},
   "outputs": [],
   "source": [
    "cat = list(map(int,[input() for x in range(2)]))\n",
    "inverse_tan = math.atan(cat[0]/cat[1]) \n",
    "print(round(math.degrees(inverse_tan)), chr(176), sep='' )"
   ]
  }
 ],
 "metadata": {
  "kernelspec": {
   "display_name": "Python 3 (ipykernel)",
   "language": "python",
   "name": "python3"
  },
  "language_info": {
   "codemirror_mode": {
    "name": "ipython",
    "version": 3
   },
   "file_extension": ".py",
   "mimetype": "text/x-python",
   "name": "python",
   "nbconvert_exporter": "python",
   "pygments_lexer": "ipython3",
   "version": "3.9.12"
  }
 },
 "nbformat": 4,
 "nbformat_minor": 5
}
