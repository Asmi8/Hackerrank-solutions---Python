{
 "cells": [
  {
   "cell_type": "code",
   "execution_count": null,
   "id": "95648b71",
   "metadata": {},
   "outputs": [],
   "source": [
    "import datetime\n"
   ]
  },
  {
   "cell_type": "code",
   "execution_count": null,
   "id": "4739ea11",
   "metadata": {},
   "outputs": [],
   "source": [
    "format_string = \"%a %d %b %Y %H:%M:%S %z\"\n",
    "T = int(input())\n",
    "for test in range (T):\n",
    "    t1 = str(input())\n",
    "    t2 =str(input())\n",
    "    parsed_t1 = datetime.datetime.strptime(t1, format_string)\n",
    "    parsed_t2 = datetime.datetime.strptime(t2,format_string)\n",
    "    diff = parsed_t1 - parsed_t2\n",
    "    print (int(abs(diff.total_seconds())))\n"
   ]
  },
  {
   "cell_type": "code",
   "execution_count": null,
   "id": "f45120f8",
   "metadata": {},
   "outputs": [],
   "source": []
  }
 ],
 "metadata": {
  "kernelspec": {
   "display_name": "Python 3 (ipykernel)",
   "language": "python",
   "name": "python3"
  },
  "language_info": {
   "codemirror_mode": {
    "name": "ipython",
    "version": 3
   },
   "file_extension": ".py",
   "mimetype": "text/x-python",
   "name": "python",
   "nbconvert_exporter": "python",
   "pygments_lexer": "ipython3",
   "version": "3.9.12"
  }
 },
 "nbformat": 4,
 "nbformat_minor": 5
}
