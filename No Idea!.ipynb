{
 "cells": [
  {
   "cell_type": "code",
   "execution_count": null,
   "id": "f2903713",
   "metadata": {},
   "outputs": [],
   "source": [
    "# Enter your code here. Read input from STDIN. Print output to STDOUT\n",
    "n,m = map(int,input().split())\n",
    "N = list(map(int,input().split()))\n",
    "A = set(map(int,input().split()))\n",
    "B = set(map(int,input().split()))\n",
    "#Union set A & B\n",
    "C = A | B\n",
    "#Exclude all numbers which doesn't exit in both A & B\n",
    "N = (i for i in N if i in C)\n",
    "#Add 1 if number is in set A else subtract 1\n",
    "print(sum(1 if i in A else -1 for i in N ))\n"
   ]
  }
 ],
 "metadata": {
  "kernelspec": {
   "display_name": "Python 3 (ipykernel)",
   "language": "python",
   "name": "python3"
  },
  "language_info": {
   "codemirror_mode": {
    "name": "ipython",
    "version": 3
   },
   "file_extension": ".py",
   "mimetype": "text/x-python",
   "name": "python",
   "nbconvert_exporter": "python",
   "pygments_lexer": "ipython3",
   "version": "3.9.12"
  }
 },
 "nbformat": 4,
 "nbformat_minor": 5
}
